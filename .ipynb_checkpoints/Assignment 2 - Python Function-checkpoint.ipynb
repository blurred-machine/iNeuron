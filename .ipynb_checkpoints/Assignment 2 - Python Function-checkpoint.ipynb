{
 "cells": [
  {
   "cell_type": "markdown",
   "metadata": {},
   "source": [
    "## Problem Statement"
   ]
  },
  {
   "cell_type": "markdown",
   "metadata": {},
   "source": [
    "Q.1 Write a Python Program to implement your own myreduce() function which works exactly like\n",
    "Python's built-in function reduce()\n"
   ]
  },
  {
   "cell_type": "code",
   "execution_count": 1,
   "metadata": {},
   "outputs": [
    {
     "name": "stdout",
     "output_type": "stream",
     "text": [
      "17\n"
     ]
    }
   ],
   "source": [
    "import operator \n",
    "\n",
    "def myReduce(function, iterable, initializer=None):\n",
    "    it = iter(iterable)\n",
    "    if initializer is None:\n",
    "        value = next(it)\n",
    "    else:\n",
    "        value = initializer\n",
    "    for element in it:\n",
    "        value = function(value, element)\n",
    "    return value\n",
    "\n",
    "print(myReduce(operator.add, [1, 4, 3, 7, 2]))"
   ]
  },
  {
   "cell_type": "markdown",
   "metadata": {},
   "source": [
    "Q.2 Write a Python program to implement your own myfilter() function which works exactly like\n",
    "Python's built-in function filter()"
   ]
  },
  {
   "cell_type": "code",
   "execution_count": 2,
   "metadata": {},
   "outputs": [
    {
     "name": "stdout",
     "output_type": "stream",
     "text": [
      "['amazing', 'elephant', 'iNeuron']\n"
     ]
    }
   ],
   "source": [
    "def myfilter(fun, sequence):\n",
    "    result = []\n",
    "    for i in range(len(sequence)):\n",
    "        if fun(sequence[i]) == True:\n",
    "            result.append(sequence[i])\n",
    "    return result\n",
    "        \n",
    "def testFun(a):\n",
    "    if len(a) > 5:\n",
    "        return True\n",
    "    return False\n",
    "    \n",
    "print(myfilter(testFun, [\"paras\", \"test\", \"amazing\", \"elephant\", \"is\", \"cool\", \"iNeuron\"]))"
   ]
  },
  {
   "cell_type": "markdown",
   "metadata": {},
   "source": [
    "Q.3 Implement List comprehensions to produce the following lists.\n",
    "   Write List comprehensions to produce the following Lists\n",
    "   \n",
    "    ['A', 'C', 'A', 'D', 'G', 'I', ’L’, ‘ D’]\n",
    "   \n",
    "    ['x', 'xx', 'xxx', 'xxxx', 'y', 'yy', 'yyy', 'yyyy', 'z', 'zz', 'zzz', 'zzzz']\n",
    "\n",
    "    ['x', 'y', 'z', 'xx', 'yy', 'zz', 'xxx', 'yyy', 'zzz', 'xxxx', 'yyyy', 'zzzz']\n",
    "    \n",
    "    [[2], [3], [4], [3], [4], [5], [4], [5], [6]]\n",
    "\n",
    "    [[2, 3, 4, 5], [3, 4, 5, 6], [4, 5, 6, 7], [5, 6, 7, 8]]\n",
    "\n",
    "    [(1, 1), (2, 1), (3, 1), (1, 2), (2, 2), (3, 2), (1, 3), (2, 3), (3, 3)]"
   ]
  },
  {
   "cell_type": "code",
   "execution_count": 3,
   "metadata": {},
   "outputs": [
    {
     "name": "stdout",
     "output_type": "stream",
     "text": [
      "['A', 'C', 'A', 'D', 'G', 'I', 'L', 'D']\n",
      "['x', 'xx', 'xxx', 'xxxx', 'y', 'yy', 'yyy', 'yyyy', 'z', 'zz', 'zzz', 'zzzz']\n",
      "['x', 'y', 'z', 'xx', 'yy', 'zz', 'xxx', 'yyy', 'zzz', 'xxxx', 'yyyy', 'zzzz']\n",
      "[[2], [3], [4], [3], [4], [5], [4], [5], [6]]\n",
      "[[2, 3, 4, 5], [3, 4, 5, 6], [4, 5, 6, 7], [5, 6, 7, 8]]\n",
      "[(1, 1), (2, 1), (3, 1), (1, 2), (2, 2), (3, 2), (1, 3), (2, 3), (3, 3)]\n"
     ]
    }
   ],
   "source": [
    "print([x for x in \"ACADGILD\"])\n",
    "\n",
    "lst=[\"x\", \"y\", \"z\"]\n",
    "print([i*j for i in lst for j in range(1, 5)])\n",
    "\n",
    "print([x*i for x in range(1, 5) for i in lst])\n",
    "\n",
    "print([[j] for i in range(2, 5) for j in range(i, i+3)])\n",
    "\n",
    "print([[i+j for i in range(0, 4)] for j in range(2, 6)])\n",
    "\n",
    "print([(j, i) for i in range(1, 4) for j in range(1, 4)])"
   ]
  },
  {
   "cell_type": "markdown",
   "metadata": {},
   "source": [
    "Q.4 Implement a function longestWord() that takes a list of words and returns the longest one."
   ]
  },
  {
   "cell_type": "code",
   "execution_count": 4,
   "metadata": {},
   "outputs": [
    {
     "name": "stdout",
     "output_type": "stream",
     "text": [
      "elephant\n"
     ]
    }
   ],
   "source": [
    "def longestWord(lst):\n",
    "    m = \"\"\n",
    "    for i in range(len(lst)):\n",
    "        if len(lst[i]) >= len(m):\n",
    "            m = lst[i]\n",
    "    return m\n",
    "    \n",
    "print(longestWord([\"paras\", \"test\", \"amazing\", \"elephant\", \"is\", \"cool\", \"iNeuron\"]))   "
   ]
  },
  {
   "cell_type": "markdown",
   "metadata": {},
   "source": [
    "Q.5 Write a Python Program(with class concepts) to find the area of the triangle using the below\n",
    "formula.\n",
    "\n",
    "area = (s*(s-a)*(s-b)*(s-c)) ** 0.5\n",
    "\n",
    "Function to take the length of the sides of triangle from user should be defined in the parent\n",
    "class and function to calculate the area should be defined in subclass."
   ]
  },
  {
   "cell_type": "code",
   "execution_count": 13,
   "metadata": {},
   "outputs": [
    {
     "name": "stdout",
     "output_type": "stream",
     "text": [
      "Side 1: 3\n",
      "Side 2: 4\n",
      "Side 3: 5\n",
      "Area of Triangle = 6.0\n"
     ]
    },
    {
     "data": {
      "text/plain": [
       "<__main__.Triange at 0x22fe9878c18>"
      ]
     },
     "execution_count": 13,
     "metadata": {},
     "output_type": "execute_result"
    }
   ],
   "source": [
    "class Triange:   \n",
    "    def __init__(self):\n",
    "            a = int(input(\"Side 1: \"))\n",
    "            b = int(input(\"Side 2: \"))\n",
    "            c = int(input(\"Side 3: \"))\n",
    "            if a+b>c and b+c>a and a+c>b:\n",
    "                t = Find_area()\n",
    "                print(\"Area of Triangle = \"+str(t.find_area(a, b, c)))\n",
    "            else:\n",
    "                print(\"Not a valid Traingle!\")\n",
    "            \n",
    "class Find_area:\n",
    "    def find_area(self, a, b, c):\n",
    "        s = (a+b+c)/2\n",
    "        return (s*(s-a)*(s-b)*(s-c))**0.5\n",
    "\n",
    "Triange()"
   ]
  },
  {
   "cell_type": "markdown",
   "metadata": {},
   "source": [
    "Q.6 Write a function filter_long_words() that takes a list of words and an integer n and returns the list\n",
    "of words that are longer than n."
   ]
  },
  {
   "cell_type": "code",
   "execution_count": 9,
   "metadata": {},
   "outputs": [
    {
     "name": "stdout",
     "output_type": "stream",
     "text": [
      "['paras', 'amazing', 'elephant', 'iNeuron']\n"
     ]
    }
   ],
   "source": [
    "length = 4\n",
    "\n",
    "def filter_long_words(lst, n):\n",
    "    new_lst = []\n",
    "    for i in range(len(lst)):\n",
    "        if len(lst[i]) > n:\n",
    "            new_lst.append(lst[i])\n",
    "    return new_lst\n",
    "    \n",
    "print(filter_long_words([\"paras\", \"test\", \"amazing\", \"elephant\", \"is\", \"cool\", \"iNeuron\"], length))"
   ]
  },
  {
   "cell_type": "markdown",
   "metadata": {},
   "source": [
    "Q.7 Write a Python program using function concept that maps list of words into a list of integers\n",
    "representing the lengths of the corresponding words.\n",
    "    \n",
    "    Hint: If a list [ ab,cde,erty] is passed on to the python function output should come as [2,3,4]\n",
    "    Here 2,3 and 4 are the lengths of the words in the list."
   ]
  },
  {
   "cell_type": "code",
   "execution_count": 7,
   "metadata": {},
   "outputs": [
    {
     "name": "stdout",
     "output_type": "stream",
     "text": [
      "[2, 3, 4]\n"
     ]
    }
   ],
   "source": [
    "def find_length(lst):\n",
    "    return list(map(len, lst))\n",
    "\n",
    "print(find_length([\"ab\",\"cde\",\"erty\"]))"
   ]
  },
  {
   "cell_type": "markdown",
   "metadata": {},
   "source": [
    "Q.8 Write a Python function which takes a character (i.e. a string of length 1) and returns True if it is\n",
    "a vowel, False otherwise."
   ]
  },
  {
   "cell_type": "code",
   "execution_count": 8,
   "metadata": {},
   "outputs": [
    {
     "data": {
      "text/plain": [
       "False"
      ]
     },
     "execution_count": 8,
     "metadata": {},
     "output_type": "execute_result"
    }
   ],
   "source": [
    "def vowel_checker(c):\n",
    "    vowels = [\"a\", \"e\", \"i\", \"o\", \"u\"]\n",
    "\n",
    "    for i in range(len(vowels)):\n",
    "        if c == vowels[i]:\n",
    "            return True\n",
    "    return False\n",
    "\n",
    "vowel_checker(\"p\")"
   ]
  },
  {
   "cell_type": "markdown",
   "metadata": {},
   "source": [
    "## Great job!"
   ]
  }
 ],
 "metadata": {
  "kernelspec": {
   "display_name": "Python 3",
   "language": "python",
   "name": "python3"
  },
  "language_info": {
   "codemirror_mode": {
    "name": "ipython",
    "version": 3
   },
   "file_extension": ".py",
   "mimetype": "text/x-python",
   "name": "python",
   "nbconvert_exporter": "python",
   "pygments_lexer": "ipython3",
   "version": "3.7.3"
  }
 },
 "nbformat": 4,
 "nbformat_minor": 2
}
